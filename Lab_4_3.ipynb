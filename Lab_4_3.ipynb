{
  "nbformat": 4,
  "nbformat_minor": 0,
  "metadata": {
    "colab": {
      "provenance": [],
      "authorship_tag": "ABX9TyOcWXJmnHVdNFyGG691KuQe",
      "include_colab_link": true
    },
    "kernelspec": {
      "name": "python3",
      "display_name": "Python 3"
    },
    "language_info": {
      "name": "python"
    }
  },
  "cells": [
    {
      "cell_type": "markdown",
      "metadata": {
        "id": "view-in-github",
        "colab_type": "text"
      },
      "source": [
        "<a href=\"https://colab.research.google.com/github/2403a51051-cyber/AIAC/blob/main/Lab_4_3.ipynb\" target=\"_parent\"><img src=\"https://colab.research.google.com/assets/colab-badge.svg\" alt=\"Open In Colab\"/></a>"
      ]
    },
    {
      "cell_type": "markdown",
      "source": [],
      "metadata": {
        "id": "pyhYhxT1HbKV"
      }
    },
    {
      "cell_type": "code",
      "execution_count": null,
      "metadata": {
        "id": "gHNSJL68GcZ0"
      },
      "outputs": [],
      "source": []
    },
    {
      "cell_type": "code",
      "metadata": {
        "id": "f6e22b40"
      },
      "source": [
        "def is_leap(year):\n",
        "  \"\"\"\n",
        "  Checks if a given year is a leap year.\n",
        "\n",
        "  Args:\n",
        "    year: The year to check.\n",
        "\n",
        "  Returns:\n",
        "    True if the year is a leap year, False otherwise.\n",
        "  \"\"\"\n",
        "  return (year % 4 == 0 and year % 100 != 0) or (year % 400 == 0)"
      ],
      "execution_count": null,
      "outputs": []
    },
    {
      "cell_type": "code",
      "source": [],
      "metadata": {
        "id": "zN_-f_6_IOUk"
      },
      "execution_count": null,
      "outputs": []
    },
    {
      "cell_type": "code",
      "source": [],
      "metadata": {
        "id": "wc_woho8IORE"
      },
      "execution_count": null,
      "outputs": []
    },
    {
      "cell_type": "code",
      "metadata": {
        "id": "a02c956c"
      },
      "source": [
        "def cm_to_inches(cm):\n",
        "  \"\"\"\n",
        "  Converts centimeters to inches.\n",
        "\n",
        "  Args:\n",
        "    cm: The length in centimeters.\n",
        "\n",
        "  Returns:\n",
        "    The length in inches.\n",
        "  \"\"\"\n",
        "  return cm * 0.393701"
      ],
      "execution_count": null,
      "outputs": []
    },
    {
      "cell_type": "code",
      "metadata": {
        "colab": {
          "base_uri": "https://localhost:8080/"
        },
        "id": "19699821",
        "outputId": "23a53262-e8f3-4058-8b93-d16f3f341617"
      },
      "source": [
        "cm_value = float(input(\"Enter length in centimeters: \"))\n",
        "inches_value = cm_to_inches(cm_value)\n",
        "print(f\"{cm_value} centimeters is equal to {inches_value:.2f} inches.\")"
      ],
      "execution_count": null,
      "outputs": [
        {
          "output_type": "stream",
          "name": "stdout",
          "text": [
            "Enter length in centimeters: 12\n",
            "12.0 centimeters is equal to 4.72 inches.\n"
          ]
        }
      ]
    },
    {
      "cell_type": "code",
      "source": [],
      "metadata": {
        "id": "qrzi2hlKIqXA"
      },
      "execution_count": null,
      "outputs": []
    },
    {
      "cell_type": "code",
      "metadata": {
        "colab": {
          "base_uri": "https://localhost:8080/"
        },
        "id": "12e9ab8b",
        "outputId": "90cad3ad-642d-4245-d4c3-e4dccc4bdf4f"
      },
      "source": [
        "def format_name_last_first(full_name):\n",
        "  \"\"\"\n",
        "  Formats a full name as 'Last, First'.\n",
        "\n",
        "  Args:\n",
        "    full_name: The full name string (e.g., \"John Doe\").\n",
        "\n",
        "  Returns:\n",
        "    The name formatted as 'Last, First' (e.g., \"Doe, John\").\n",
        "    Returns the original name if it cannot be split into at least two parts.\n",
        "  \"\"\"\n",
        "  parts = full_name.split()\n",
        "  if len(parts) >= 2:\n",
        "    return f\"{parts[-1]}, {' '.join(parts[:-1])}\"\n",
        "  else:\n",
        "    return full_name # Return original name if it cannot be split\n",
        "\n",
        "full_name = input(\"Enter a full name: \")\n",
        "formatted_name = format_name_last_first(full_name)\n",
        "print(f\"Formatted name: {formatted_name}\")"
      ],
      "execution_count": null,
      "outputs": [
        {
          "metadata": {
            "tags": null
          },
          "name": "stdout",
          "output_type": "stream",
          "text": [
            "Formatted name: kom\", \"hari\n"
          ]
        }
      ]
    },
    {
      "cell_type": "code",
      "source": [],
      "metadata": {
        "id": "m1SE2QmTJ8o7"
      },
      "execution_count": null,
      "outputs": []
    },
    {
      "cell_type": "code",
      "metadata": {
        "colab": {
          "base_uri": "https://localhost:8080/"
        },
        "id": "822c7f6a",
        "outputId": "bea62f4d-7e0d-4e4f-d50f-f1eaf0d527fc"
      },
      "source": [
        "input_string = input(\"Enter a string: \")\n",
        "vowel_count = count_vowels_zero_shot(input_string) # Or count_vowels_few_shot\n",
        "print(f\"The number of vowels in '{input_string}' is: {vowel_count}\")"
      ],
      "execution_count": null,
      "outputs": [
        {
          "output_type": "stream",
          "name": "stdout",
          "text": [
            "Enter a string: sreevarshinne\n",
            "The number of vowels in 'sreevarshinne' is: 5\n"
          ]
        }
      ]
    },
    {
      "cell_type": "code",
      "source": [],
      "metadata": {
        "id": "nQ_54SP0LOgS"
      },
      "execution_count": null,
      "outputs": []
    },
    {
      "cell_type": "code",
      "source": [],
      "metadata": {
        "id": "XZtTnUq_QJlb"
      },
      "execution_count": 19,
      "outputs": []
    },
    {
      "cell_type": "code",
      "metadata": {
        "colab": {
          "base_uri": "https://localhost:8080/"
        },
        "id": "c47e3140",
        "outputId": "f62eb5a4-1b90-4625-ec16-f6cf05947eb0"
      },
      "source": [
        "# Create a dummy text file for demonstration\n",
        "file_content = \"\"\"Line 1\n",
        "Line 2\n",
        "Line 3\n",
        "This is the fourth line.\n",
        "And a fifth one.\n",
        "\"\"\"\n",
        "\n",
        "file_path = \"my_dummy_file.txt\"\n",
        "\n",
        "with open(file_path, \"w\") as f:\n",
        "  f.write(file_content)\n",
        "\n",
        "# Use the count_lines_in_file function\n",
        "line_count = count_lines_in_file(file_path)\n",
        "\n",
        "if line_count != -1:\n",
        "  print(f\"The file '{file_path}' has {line_count} lines.\")\n",
        "\n",
        "# Clean up the dummy file (optional)\n",
        "import os\n",
        "os.remove(file_path)"
      ],
      "execution_count": 22,
      "outputs": [
        {
          "output_type": "stream",
          "name": "stdout",
          "text": [
            "The file 'my_dummy_file.txt' has 5 lines.\n"
          ]
        }
      ]
    }
  ]
}