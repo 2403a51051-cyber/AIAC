{
  "nbformat": 4,
  "nbformat_minor": 0,
  "metadata": {
    "colab": {
      "provenance": [],
      "authorship_tag": "ABX9TyO1ArbGjqBEpHBPi6rnxqDC",
      "include_colab_link": true
    },
    "kernelspec": {
      "name": "python3",
      "display_name": "Python 3"
    },
    "language_info": {
      "name": "python"
    }
  },
  "cells": [
    {
      "cell_type": "markdown",
      "metadata": {
        "id": "view-in-github",
        "colab_type": "text"
      },
      "source": [
        "<a href=\"https://colab.research.google.com/github/2403a51051-cyber/AIAC/blob/main/Lab_2_3.ipynb\" target=\"_parent\"><img src=\"https://colab.research.google.com/assets/colab-badge.svg\" alt=\"Open In Colab\"/></a>"
      ]
    },
    {
      "cell_type": "markdown",
      "source": [],
      "metadata": {
        "id": "qIEEkyS7JPI4"
      }
    },
    {
      "cell_type": "markdown",
      "source": [
        " write a function that reads a CSV file and calculates mean, min, max. Expected Output#1 ● Functional code with output and screenshot."
      ],
      "metadata": {
        "id": "Y9dCima-Hw56"
      }
    },
    {
      "cell_type": "markdown",
      "source": [],
      "metadata": {
        "id": "LZTQV_jhJMNR"
      }
    },
    {
      "cell_type": "code",
      "source": [],
      "metadata": {
        "id": "4nXQ6-0TKAcv"
      },
      "execution_count": null,
      "outputs": []
    },
    {
      "cell_type": "code",
      "metadata": {
        "colab": {
          "base_uri": "https://localhost:8080/",
          "height": 432
        },
        "id": "ea02f435",
        "outputId": "e3c0ee79-1974-4929-ddfe-9dc14bfd71b0"
      },
      "source": [
        "analyze_csv_stats(\"colab.csv\")"
      ],
      "execution_count": 19,
      "outputs": [
        {
          "output_type": "stream",
          "name": "stdout",
          "text": [
            "--- Statistics for Numeric Columns ---\n",
            "\n",
            "Mean:\n"
          ]
        },
        {
          "output_type": "display_data",
          "data": {
            "text/plain": [
              "12    35.6\n",
              "dtype: float64"
            ],
            "text/html": [
              "<div>\n",
              "<style scoped>\n",
              "    .dataframe tbody tr th:only-of-type {\n",
              "        vertical-align: middle;\n",
              "    }\n",
              "\n",
              "    .dataframe tbody tr th {\n",
              "        vertical-align: top;\n",
              "    }\n",
              "\n",
              "    .dataframe thead th {\n",
              "        text-align: right;\n",
              "    }\n",
              "</style>\n",
              "<table border=\"1\" class=\"dataframe\">\n",
              "  <thead>\n",
              "    <tr style=\"text-align: right;\">\n",
              "      <th></th>\n",
              "      <th>0</th>\n",
              "    </tr>\n",
              "  </thead>\n",
              "  <tbody>\n",
              "    <tr>\n",
              "      <th>12</th>\n",
              "      <td>35.6</td>\n",
              "    </tr>\n",
              "  </tbody>\n",
              "</table>\n",
              "</div><br><label><b>dtype:</b> float64</label>"
            ]
          },
          "metadata": {}
        },
        {
          "output_type": "stream",
          "name": "stdout",
          "text": [
            "\n",
            "Minimum:\n"
          ]
        },
        {
          "output_type": "display_data",
          "data": {
            "text/plain": [
              "12    14\n",
              "dtype: int64"
            ],
            "text/html": [
              "<div>\n",
              "<style scoped>\n",
              "    .dataframe tbody tr th:only-of-type {\n",
              "        vertical-align: middle;\n",
              "    }\n",
              "\n",
              "    .dataframe tbody tr th {\n",
              "        vertical-align: top;\n",
              "    }\n",
              "\n",
              "    .dataframe thead th {\n",
              "        text-align: right;\n",
              "    }\n",
              "</style>\n",
              "<table border=\"1\" class=\"dataframe\">\n",
              "  <thead>\n",
              "    <tr style=\"text-align: right;\">\n",
              "      <th></th>\n",
              "      <th>0</th>\n",
              "    </tr>\n",
              "  </thead>\n",
              "  <tbody>\n",
              "    <tr>\n",
              "      <th>12</th>\n",
              "      <td>14</td>\n",
              "    </tr>\n",
              "  </tbody>\n",
              "</table>\n",
              "</div><br><label><b>dtype:</b> int64</label>"
            ]
          },
          "metadata": {}
        },
        {
          "output_type": "stream",
          "name": "stdout",
          "text": [
            "\n",
            "Maximum:\n"
          ]
        },
        {
          "output_type": "display_data",
          "data": {
            "text/plain": [
              "12    53\n",
              "dtype: int64"
            ],
            "text/html": [
              "<div>\n",
              "<style scoped>\n",
              "    .dataframe tbody tr th:only-of-type {\n",
              "        vertical-align: middle;\n",
              "    }\n",
              "\n",
              "    .dataframe tbody tr th {\n",
              "        vertical-align: top;\n",
              "    }\n",
              "\n",
              "    .dataframe thead th {\n",
              "        text-align: right;\n",
              "    }\n",
              "</style>\n",
              "<table border=\"1\" class=\"dataframe\">\n",
              "  <thead>\n",
              "    <tr style=\"text-align: right;\">\n",
              "      <th></th>\n",
              "      <th>0</th>\n",
              "    </tr>\n",
              "  </thead>\n",
              "  <tbody>\n",
              "    <tr>\n",
              "      <th>12</th>\n",
              "      <td>53</td>\n",
              "    </tr>\n",
              "  </tbody>\n",
              "</table>\n",
              "</div><br><label><b>dtype:</b> int64</label>"
            ]
          },
          "metadata": {}
        }
      ]
    },
    {
      "cell_type": "code",
      "metadata": {
        "id": "9e9559cb"
      },
      "source": [
        "import pandas as pd\n",
        "import numpy as np\n",
        "import io\n",
        "\n",
        "def analyze_csv_stats(csv_file_path):\n",
        "  \"\"\"\n",
        "  Reads a CSV file and prints the mean, min, and max for each numerical column.\n",
        "\n",
        "  Args:\n",
        "    csv_file_path (str): The path to the CSV file.\n",
        "  \"\"\"\n",
        "  try:\n",
        "    df = pd.read_csv(csv_file_path)\n",
        "\n",
        "    # Select only numeric columns\n",
        "    numeric_df = df.select_dtypes(include=np.number)\n",
        "\n",
        "    if numeric_df.empty:\n",
        "      print(\"No numeric columns found in the CSV file.\")\n",
        "      return\n",
        "\n",
        "    # Calculate mean, min, and max for numeric columns\n",
        "    mean_values = numeric_df.mean()\n",
        "    min_values = numeric_df.min()\n",
        "    max_values = numeric_df.max()\n",
        "\n",
        "    print(\"--- Statistics for Numeric Columns ---\")\n",
        "    print(\"\\nMean:\")\n",
        "    display(mean_values)\n",
        "    print(\"\\nMinimum:\")\n",
        "    display(min_values)\n",
        "    print(\"\\nMaximum:\")\n",
        "    display(max_values)\n",
        "\n",
        "  except FileNotFoundError:\n",
        "    print(f\"Error: File not found at {csv_file_path}\")\n",
        "  except Exception as e:\n",
        "    print(f\"An error occurred: {e}\")\n",
        "\n",
        "# Example usage:\n",
        "# analyze_csv_stats(\"your_file_name.csv\")"
      ],
      "execution_count": 20,
      "outputs": []
    },
    {
      "cell_type": "markdown",
      "source": [
        "Task Description#2\n",
        "● Compare Gemini and Copilot outputs for a palindrome check function.\n",
        "Expected Output#2\n",
        "● Side-by-side comparison and observations"
      ],
      "metadata": {
        "id": "NUPoy-7EKkru"
      }
    },
    {
      "cell_type": "code",
      "source": [],
      "metadata": {
        "id": "4Hq-_jDCKkLN"
      },
      "execution_count": null,
      "outputs": []
    },
    {
      "cell_type": "code",
      "metadata": {
        "id": "7ab695aa"
      },
      "source": [
        "def is_palindrome(s):\n",
        "  \"\"\"\n",
        "  Checks if a given string is a palindrome.\n",
        "\n",
        "  Args:\n",
        "    s (str): The input string.\n",
        "\n",
        "  Returns:\n",
        "    bool: True if the string is a palindrome, False otherwise.\n",
        "  \"\"\"\n",
        "  # Remove non-alphanumeric characters and convert to lowercase\n",
        "  cleaned_s = ''.join(char.lower() for char in s if char.isalnum())\n",
        "\n",
        "  # Check if the cleaned string is equal to its reverse\n",
        "  return cleaned_s == cleaned_s[::-1]"
      ],
      "execution_count": 21,
      "outputs": []
    },
    {
      "cell_type": "code",
      "metadata": {
        "colab": {
          "base_uri": "https://localhost:8080/"
        },
        "id": "f6c3ac48",
        "outputId": "8f69067b-eaa2-4dfc-eadf-0a2ef988cfcc"
      },
      "source": [
        "# Examples\n",
        "print(f\"'racecar' is a palindrome: {is_palindrome('racecar')}\")\n",
        "print(f\"'hello' is a palindrome: {is_palindrome('hello')}\")\n",
        "print(f\"'A man, a plan, a canal: Panama' is a palindrome: {is_palindrome('A man, a plan, a canal: Panama')}\")\n",
        "print(f\"'No ''peep''!' is a palindrome: {is_palindrome('No ''peep''!')}\")\n",
        "print(f\"'Python' is a palindrome: {is_palindrome('Python')}\")"
      ],
      "execution_count": 23,
      "outputs": [
        {
          "output_type": "stream",
          "name": "stdout",
          "text": [
            "'racecar' is a palindrome: True\n",
            "'hello' is a palindrome: False\n",
            "'A man, a plan, a canal: Panama' is a palindrome: True\n",
            "'No ''peep''!' is a palindrome: False\n",
            "'Python' is a palindrome: False\n"
          ]
        }
      ]
    },
    {
      "cell_type": "markdown",
      "source": [
        "Task Description#3\n",
        "● Ask Gemini to explain a Python function (to calculate area of various shapes) line by\n",
        "line..\n",
        "Expected Output#3\n",
        "● Detailed explanation with code snippet\n"
      ],
      "metadata": {
        "id": "HRmq0qBVLxQl"
      }
    },
    {
      "cell_type": "code",
      "source": [
        "import math\n",
        "\n",
        "def calculate_area(shape, **kwargs):\n",
        "  \"\"\"\n",
        "  Calculates the area of various shapes.\n",
        "\n",
        "  Args:\n",
        "    shape (str): The name of the shape (e.g., 'circle', 'square', 'rectangle', 'triangle').\n",
        "    **kwargs: Keyword arguments for the shape's dimensions.\n",
        "\n",
        "  Returns:\n",
        "    float or None: The calculated area, or None if the shape is not supported or dimensions are missing.\n",
        "  \"\"\"\n",
        "  if shape.lower() == 'circle':\n",
        "    # Circle area: π * r^2\n",
        "    radius = kwargs.get('radius')\n",
        "    if radius is not None:\n",
        "      return math.pi * (radius ** 2)\n",
        "    else:\n",
        "      print(\"Error: Radius is required for a circle.\")\n",
        "      return None\n",
        "  elif shape.lower() == 'square':\n",
        "    # Square area: side * side\n",
        "    side = kwargs.get('side')\n",
        "    if side is not None:\n",
        "      return side ** 2\n",
        "    else:\n",
        "      print(\"Error: Side length is required for a square.\")\n",
        "      return None\n",
        "  elif shape.lower() == 'rectangle':\n",
        "    # Rectangle area: length * width\n",
        "    length = kwargs.get('length')\n",
        "    width = kwargs.get('width')\n",
        "    if length is not None and width is not None:\n",
        "      return length * width\n",
        "    else:\n",
        "      print(\"Error: Length and width are required for a rectangle.\")\n",
        "      return None\n",
        "  elif shape.lower() == 'triangle':\n",
        "    # Triangle area: 0.5 * base * height\n",
        "    base = kwargs.get('base')\n",
        "    height = kwargs.get('height')\n",
        "    if base is not None and height is not None:\n",
        "      return 0.5 * base * height\n",
        "    else:\n",
        "      print(\"Error: Base and height are required for a triangle.\")\n",
        "      return None\n",
        "  else:\n",
        "    print(f\"Error: Unsupported shape '{shape}'.\")\n",
        "    return None\n",
        "\n",
        "# Example Usage:\n",
        "print(f\"Area of circle with radius 5: {calculate_area('circle', radius=5)}\")\n",
        "print(f\"Area of square with side 4: {calculate_area('square', side=4)}\")\n",
        "print(f\"Area of rectangle with length 6 and width 8: {calculate_area('rectangle', length=6, width=8)}\")\n",
        "print(f\"Area of triangle with base 3 and height 7: {calculate_area('triangle', base=3, height=7)}\")\n",
        "print(f\"Area of a pentagon: {calculate_area('pentagon', side=5)}\") # Unsupported shape\n",
        "print(f\"Area of circle (missing radius): {calculate_area('circle')}\") # Missing argument"
      ],
      "metadata": {
        "colab": {
          "base_uri": "https://localhost:8080/"
        },
        "id": "kvcafaTvMAbs",
        "outputId": "76732759-35a9-4023-c501-7c1f451cd0b1"
      },
      "execution_count": 24,
      "outputs": [
        {
          "output_type": "stream",
          "name": "stdout",
          "text": [
            "Area of circle with radius 5: 78.53981633974483\n",
            "Area of square with side 4: 16\n",
            "Area of rectangle with length 6 and width 8: 48\n",
            "Area of triangle with base 3 and height 7: 10.5\n",
            "Error: Unsupported shape 'pentagon'.\n",
            "Area of a pentagon: None\n",
            "Error: Radius is required for a circle.\n",
            "Area of circle (missing radius): None\n"
          ]
        }
      ]
    },
    {
      "cell_type": "markdown",
      "source": [],
      "metadata": {
        "id": "zAMqgRipLwFl"
      }
    },
    {
      "cell_type": "markdown",
      "metadata": {
        "id": "ad89cad1"
      },
      "source": [
        "Here is a line-by-line explanation of the `calculate_area` function:"
      ]
    },
    {
      "cell_type": "code",
      "metadata": {
        "colab": {
          "base_uri": "https://localhost:8080/",
          "height": 106
        },
        "id": "81654023",
        "outputId": "570efec1-d5d8-4757-bde6-adbc8d329fee"
      },
      "source": [
        "def calculate_area(shape, **kwargs):"
      ],
      "execution_count": 25,
      "outputs": [
        {
          "output_type": "error",
          "ename": "SyntaxError",
          "evalue": "incomplete input (ipython-input-762420215.py, line 1)",
          "traceback": [
            "\u001b[0;36m  File \u001b[0;32m\"/tmp/ipython-input-762420215.py\"\u001b[0;36m, line \u001b[0;32m1\u001b[0m\n\u001b[0;31m    def calculate_area(shape, **kwargs):\u001b[0m\n\u001b[0m                                        ^\u001b[0m\n\u001b[0;31mSyntaxError\u001b[0m\u001b[0;31m:\u001b[0m incomplete input\n"
          ]
        }
      ]
    },
    {
      "cell_type": "code",
      "metadata": {
        "colab": {
          "base_uri": "https://localhost:8080/",
          "height": 87
        },
        "id": "12e55acb",
        "outputId": "43053a3d-a5d6-4ec3-853c-e189c98c0bc7"
      },
      "source": [
        "  \"\"\"\n",
        "  Calculates the area of various shapes.\n",
        "\n",
        "  Args:\n",
        "    shape (str): The name of the shape (e.g., 'circle', 'square', 'rectangle', 'triangle').\n",
        "    **kwargs: Keyword arguments for the shape's dimensions.\n",
        "\n",
        "  Returns:\n",
        "    float or None: The calculated area, or None if the shape is not supported or dimensions are missing.\n",
        "  \"\"\""
      ],
      "execution_count": 26,
      "outputs": [
        {
          "output_type": "execute_result",
          "data": {
            "text/plain": [
              "\"\\nCalculates the area of various shapes.\\n\\nArgs:\\n  shape (str): The name of the shape (e.g., 'circle', 'square', 'rectangle', 'triangle').\\n  **kwargs: Keyword arguments for the shape's dimensions.\\n\\nReturns:\\n  float or None: The calculated area, or None if the shape is not supported or dimensions are missing.\\n\""
            ],
            "application/vnd.google.colaboratory.intrinsic+json": {
              "type": "string"
            }
          },
          "metadata": {},
          "execution_count": 26
        }
      ]
    },
    {
      "cell_type": "code",
      "metadata": {
        "colab": {
          "base_uri": "https://localhost:8080/",
          "height": 106
        },
        "id": "c8c4fddf",
        "outputId": "79fb0161-dabd-4fed-c308-05195be07e87"
      },
      "source": [
        "  if shape.lower() == 'circle':"
      ],
      "execution_count": 27,
      "outputs": [
        {
          "output_type": "error",
          "ename": "SyntaxError",
          "evalue": "incomplete input (ipython-input-2057560964.py, line 1)",
          "traceback": [
            "\u001b[0;36m  File \u001b[0;32m\"/tmp/ipython-input-2057560964.py\"\u001b[0;36m, line \u001b[0;32m1\u001b[0m\n\u001b[0;31m    if shape.lower() == 'circle':\u001b[0m\n\u001b[0m                                 ^\u001b[0m\n\u001b[0;31mSyntaxError\u001b[0m\u001b[0;31m:\u001b[0m incomplete input\n"
          ]
        }
      ]
    },
    {
      "cell_type": "code",
      "metadata": {
        "colab": {
          "base_uri": "https://localhost:8080/",
          "height": 158
        },
        "id": "49335b81",
        "outputId": "43dcff08-b437-4c8d-a2cf-6b6f6b3940fb"
      },
      "source": [
        "    # Circle area: π * r^2\n",
        "    radius = kwargs.get('radius')"
      ],
      "execution_count": 28,
      "outputs": [
        {
          "output_type": "error",
          "ename": "NameError",
          "evalue": "name 'kwargs' is not defined",
          "traceback": [
            "\u001b[0;31m---------------------------------------------------------------------------\u001b[0m",
            "\u001b[0;31mNameError\u001b[0m                                 Traceback (most recent call last)",
            "\u001b[0;32m/tmp/ipython-input-1694271172.py\u001b[0m in \u001b[0;36m<cell line: 0>\u001b[0;34m()\u001b[0m\n\u001b[1;32m      1\u001b[0m \u001b[0;31m# Circle area: π * r^2\u001b[0m\u001b[0;34m\u001b[0m\u001b[0;34m\u001b[0m\u001b[0m\n\u001b[0;32m----> 2\u001b[0;31m \u001b[0mradius\u001b[0m \u001b[0;34m=\u001b[0m \u001b[0mkwargs\u001b[0m\u001b[0;34m.\u001b[0m\u001b[0mget\u001b[0m\u001b[0;34m(\u001b[0m\u001b[0;34m'radius'\u001b[0m\u001b[0;34m)\u001b[0m\u001b[0;34m\u001b[0m\u001b[0;34m\u001b[0m\u001b[0m\n\u001b[0m",
            "\u001b[0;31mNameError\u001b[0m: name 'kwargs' is not defined"
          ]
        }
      ]
    },
    {
      "cell_type": "code",
      "metadata": {
        "colab": {
          "base_uri": "https://localhost:8080/",
          "height": 106
        },
        "id": "2d227c6e",
        "outputId": "6faaf7f7-557c-4833-9a90-9ac6d457d6e3"
      },
      "source": [
        "    if radius is not None:"
      ],
      "execution_count": 29,
      "outputs": [
        {
          "output_type": "error",
          "ename": "SyntaxError",
          "evalue": "incomplete input (ipython-input-4064611422.py, line 1)",
          "traceback": [
            "\u001b[0;36m  File \u001b[0;32m\"/tmp/ipython-input-4064611422.py\"\u001b[0;36m, line \u001b[0;32m1\u001b[0m\n\u001b[0;31m    if radius is not None:\u001b[0m\n\u001b[0m                          ^\u001b[0m\n\u001b[0;31mSyntaxError\u001b[0m\u001b[0;31m:\u001b[0m incomplete input\n"
          ]
        }
      ]
    },
    {
      "cell_type": "code",
      "metadata": {
        "colab": {
          "base_uri": "https://localhost:8080/",
          "height": 106
        },
        "id": "ffa0e8cc",
        "outputId": "7119f964-868f-49c5-d58b-d8efaf25f489"
      },
      "source": [
        "      return math.pi * (radius ** 2)"
      ],
      "execution_count": 30,
      "outputs": [
        {
          "output_type": "error",
          "ename": "SyntaxError",
          "evalue": "'return' outside function (ipython-input-1643322382.py, line 1)",
          "traceback": [
            "\u001b[0;36m  File \u001b[0;32m\"/tmp/ipython-input-1643322382.py\"\u001b[0;36m, line \u001b[0;32m1\u001b[0m\n\u001b[0;31m    return math.pi * (radius ** 2)\u001b[0m\n\u001b[0m    ^\u001b[0m\n\u001b[0;31mSyntaxError\u001b[0m\u001b[0;31m:\u001b[0m 'return' outside function\n"
          ]
        }
      ]
    },
    {
      "cell_type": "code",
      "metadata": {
        "colab": {
          "base_uri": "https://localhost:8080/",
          "height": 106
        },
        "id": "79aec6cd",
        "outputId": "07683fcd-1faf-4346-affe-f950e28899cf"
      },
      "source": [
        "    else:\n",
        "      print(\"Error: Radius is required for a circle.\")\n",
        "      return None"
      ],
      "execution_count": 31,
      "outputs": [
        {
          "output_type": "error",
          "ename": "SyntaxError",
          "evalue": "invalid syntax (ipython-input-3136568905.py, line 1)",
          "traceback": [
            "\u001b[0;36m  File \u001b[0;32m\"/tmp/ipython-input-3136568905.py\"\u001b[0;36m, line \u001b[0;32m1\u001b[0m\n\u001b[0;31m    else:\u001b[0m\n\u001b[0m    ^\u001b[0m\n\u001b[0;31mSyntaxError\u001b[0m\u001b[0;31m:\u001b[0m invalid syntax\n"
          ]
        }
      ]
    },
    {
      "cell_type": "code",
      "metadata": {
        "colab": {
          "base_uri": "https://localhost:8080/",
          "height": 106
        },
        "id": "b2070070",
        "outputId": "5b3189b7-377a-42d9-b532-336a96d8c13e"
      },
      "source": [
        "  elif shape.lower() == 'square':"
      ],
      "execution_count": 32,
      "outputs": [
        {
          "output_type": "error",
          "ename": "SyntaxError",
          "evalue": "invalid syntax (ipython-input-374814040.py, line 1)",
          "traceback": [
            "\u001b[0;36m  File \u001b[0;32m\"/tmp/ipython-input-374814040.py\"\u001b[0;36m, line \u001b[0;32m1\u001b[0m\n\u001b[0;31m    elif shape.lower() == 'square':\u001b[0m\n\u001b[0m    ^\u001b[0m\n\u001b[0;31mSyntaxError\u001b[0m\u001b[0;31m:\u001b[0m invalid syntax\n"
          ]
        }
      ]
    },
    {
      "cell_type": "code",
      "metadata": {
        "colab": {
          "base_uri": "https://localhost:8080/",
          "height": 158
        },
        "id": "d30abca7",
        "outputId": "75342e02-d986-485f-e1d6-a9fc2ee88629"
      },
      "source": [
        "    # Square area: side * side\n",
        "    side = kwargs.get('side')"
      ],
      "execution_count": 33,
      "outputs": [
        {
          "output_type": "error",
          "ename": "NameError",
          "evalue": "name 'kwargs' is not defined",
          "traceback": [
            "\u001b[0;31m---------------------------------------------------------------------------\u001b[0m",
            "\u001b[0;31mNameError\u001b[0m                                 Traceback (most recent call last)",
            "\u001b[0;32m/tmp/ipython-input-573378462.py\u001b[0m in \u001b[0;36m<cell line: 0>\u001b[0;34m()\u001b[0m\n\u001b[1;32m      1\u001b[0m \u001b[0;31m# Square area: side * side\u001b[0m\u001b[0;34m\u001b[0m\u001b[0;34m\u001b[0m\u001b[0m\n\u001b[0;32m----> 2\u001b[0;31m \u001b[0mside\u001b[0m \u001b[0;34m=\u001b[0m \u001b[0mkwargs\u001b[0m\u001b[0;34m.\u001b[0m\u001b[0mget\u001b[0m\u001b[0;34m(\u001b[0m\u001b[0;34m'side'\u001b[0m\u001b[0;34m)\u001b[0m\u001b[0;34m\u001b[0m\u001b[0;34m\u001b[0m\u001b[0m\n\u001b[0m",
            "\u001b[0;31mNameError\u001b[0m: name 'kwargs' is not defined"
          ]
        }
      ]
    },
    {
      "cell_type": "code",
      "metadata": {
        "colab": {
          "base_uri": "https://localhost:8080/",
          "height": 106
        },
        "id": "b5c091f2",
        "outputId": "e266ef1e-5fa4-450e-e231-a965866e88e9"
      },
      "source": [
        "    if side is not None:\n",
        "      return side ** 2\n",
        "    else:\n",
        "      print(\"Error: Side length is required for a square.\")\n",
        "      return None"
      ],
      "execution_count": 34,
      "outputs": [
        {
          "output_type": "error",
          "ename": "SyntaxError",
          "evalue": "'return' outside function (ipython-input-1503462264.py, line 2)",
          "traceback": [
            "\u001b[0;36m  File \u001b[0;32m\"/tmp/ipython-input-1503462264.py\"\u001b[0;36m, line \u001b[0;32m2\u001b[0m\n\u001b[0;31m    return side ** 2\u001b[0m\n\u001b[0m    ^\u001b[0m\n\u001b[0;31mSyntaxError\u001b[0m\u001b[0;31m:\u001b[0m 'return' outside function\n"
          ]
        }
      ]
    },
    {
      "cell_type": "code",
      "metadata": {
        "colab": {
          "base_uri": "https://localhost:8080/",
          "height": 106
        },
        "id": "c7b05ca4",
        "outputId": "7b3feae1-2000-4d0d-bb2f-fdf95bdd973c"
      },
      "source": [
        "  elif shape.lower() == 'rectangle':"
      ],
      "execution_count": 35,
      "outputs": [
        {
          "output_type": "error",
          "ename": "SyntaxError",
          "evalue": "invalid syntax (ipython-input-122276156.py, line 1)",
          "traceback": [
            "\u001b[0;36m  File \u001b[0;32m\"/tmp/ipython-input-122276156.py\"\u001b[0;36m, line \u001b[0;32m1\u001b[0m\n\u001b[0;31m    elif shape.lower() == 'rectangle':\u001b[0m\n\u001b[0m    ^\u001b[0m\n\u001b[0;31mSyntaxError\u001b[0m\u001b[0;31m:\u001b[0m invalid syntax\n"
          ]
        }
      ]
    },
    {
      "cell_type": "code",
      "metadata": {
        "colab": {
          "base_uri": "https://localhost:8080/",
          "height": 176
        },
        "id": "0155a867",
        "outputId": "10d95770-2c19-4dd0-e0b3-f20527f22ef0"
      },
      "source": [
        "    # Rectangle area: length * width\n",
        "    length = kwargs.get('length')\n",
        "    width = kwargs.get('width')"
      ],
      "execution_count": 36,
      "outputs": [
        {
          "output_type": "error",
          "ename": "NameError",
          "evalue": "name 'kwargs' is not defined",
          "traceback": [
            "\u001b[0;31m---------------------------------------------------------------------------\u001b[0m",
            "\u001b[0;31mNameError\u001b[0m                                 Traceback (most recent call last)",
            "\u001b[0;32m/tmp/ipython-input-2238973856.py\u001b[0m in \u001b[0;36m<cell line: 0>\u001b[0;34m()\u001b[0m\n\u001b[1;32m      1\u001b[0m \u001b[0;31m# Rectangle area: length * width\u001b[0m\u001b[0;34m\u001b[0m\u001b[0;34m\u001b[0m\u001b[0m\n\u001b[0;32m----> 2\u001b[0;31m \u001b[0mlength\u001b[0m \u001b[0;34m=\u001b[0m \u001b[0mkwargs\u001b[0m\u001b[0;34m.\u001b[0m\u001b[0mget\u001b[0m\u001b[0;34m(\u001b[0m\u001b[0;34m'length'\u001b[0m\u001b[0;34m)\u001b[0m\u001b[0;34m\u001b[0m\u001b[0;34m\u001b[0m\u001b[0m\n\u001b[0m\u001b[1;32m      3\u001b[0m \u001b[0mwidth\u001b[0m \u001b[0;34m=\u001b[0m \u001b[0mkwargs\u001b[0m\u001b[0;34m.\u001b[0m\u001b[0mget\u001b[0m\u001b[0;34m(\u001b[0m\u001b[0;34m'width'\u001b[0m\u001b[0;34m)\u001b[0m\u001b[0;34m\u001b[0m\u001b[0;34m\u001b[0m\u001b[0m\n",
            "\u001b[0;31mNameError\u001b[0m: name 'kwargs' is not defined"
          ]
        }
      ]
    },
    {
      "cell_type": "code",
      "metadata": {
        "colab": {
          "base_uri": "https://localhost:8080/",
          "height": 106
        },
        "id": "1d93247d",
        "outputId": "60c26cb9-9db3-423c-f415-6f295e1dfea2"
      },
      "source": [
        "    if length is not None and width is not None:\n",
        "      return length * width\n",
        "    else:\n",
        "      print(\"Error: Length and width are required for a rectangle.\")\n",
        "      return None"
      ],
      "execution_count": 37,
      "outputs": [
        {
          "output_type": "error",
          "ename": "SyntaxError",
          "evalue": "'return' outside function (ipython-input-3960073894.py, line 2)",
          "traceback": [
            "\u001b[0;36m  File \u001b[0;32m\"/tmp/ipython-input-3960073894.py\"\u001b[0;36m, line \u001b[0;32m2\u001b[0m\n\u001b[0;31m    return length * width\u001b[0m\n\u001b[0m    ^\u001b[0m\n\u001b[0;31mSyntaxError\u001b[0m\u001b[0;31m:\u001b[0m 'return' outside function\n"
          ]
        }
      ]
    },
    {
      "cell_type": "code",
      "metadata": {
        "colab": {
          "base_uri": "https://localhost:8080/",
          "height": 106
        },
        "id": "69b5db42",
        "outputId": "2d3c2dad-6f2f-423c-aa0d-32011809f8e3"
      },
      "source": [
        "  elif shape.lower() == 'triangle':"
      ],
      "execution_count": 38,
      "outputs": [
        {
          "output_type": "error",
          "ename": "SyntaxError",
          "evalue": "invalid syntax (ipython-input-2589942269.py, line 1)",
          "traceback": [
            "\u001b[0;36m  File \u001b[0;32m\"/tmp/ipython-input-2589942269.py\"\u001b[0;36m, line \u001b[0;32m1\u001b[0m\n\u001b[0;31m    elif shape.lower() == 'triangle':\u001b[0m\n\u001b[0m    ^\u001b[0m\n\u001b[0;31mSyntaxError\u001b[0m\u001b[0;31m:\u001b[0m invalid syntax\n"
          ]
        }
      ]
    },
    {
      "cell_type": "code",
      "metadata": {
        "colab": {
          "base_uri": "https://localhost:8080/",
          "height": 176
        },
        "id": "f0674b2b",
        "outputId": "b99a5c19-f035-44c6-9718-165f62e277e2"
      },
      "source": [
        "    # Triangle area: 0.5 * base * height\n",
        "    base = kwargs.get('base')\n",
        "    height = kwargs.get('height')"
      ],
      "execution_count": 39,
      "outputs": [
        {
          "output_type": "error",
          "ename": "NameError",
          "evalue": "name 'kwargs' is not defined",
          "traceback": [
            "\u001b[0;31m---------------------------------------------------------------------------\u001b[0m",
            "\u001b[0;31mNameError\u001b[0m                                 Traceback (most recent call last)",
            "\u001b[0;32m/tmp/ipython-input-4049186710.py\u001b[0m in \u001b[0;36m<cell line: 0>\u001b[0;34m()\u001b[0m\n\u001b[1;32m      1\u001b[0m \u001b[0;31m# Triangle area: 0.5 * base * height\u001b[0m\u001b[0;34m\u001b[0m\u001b[0;34m\u001b[0m\u001b[0m\n\u001b[0;32m----> 2\u001b[0;31m \u001b[0mbase\u001b[0m \u001b[0;34m=\u001b[0m \u001b[0mkwargs\u001b[0m\u001b[0;34m.\u001b[0m\u001b[0mget\u001b[0m\u001b[0;34m(\u001b[0m\u001b[0;34m'base'\u001b[0m\u001b[0;34m)\u001b[0m\u001b[0;34m\u001b[0m\u001b[0;34m\u001b[0m\u001b[0m\n\u001b[0m\u001b[1;32m      3\u001b[0m \u001b[0mheight\u001b[0m \u001b[0;34m=\u001b[0m \u001b[0mkwargs\u001b[0m\u001b[0;34m.\u001b[0m\u001b[0mget\u001b[0m\u001b[0;34m(\u001b[0m\u001b[0;34m'height'\u001b[0m\u001b[0;34m)\u001b[0m\u001b[0;34m\u001b[0m\u001b[0;34m\u001b[0m\u001b[0m\n",
            "\u001b[0;31mNameError\u001b[0m: name 'kwargs' is not defined"
          ]
        }
      ]
    },
    {
      "cell_type": "code",
      "metadata": {
        "colab": {
          "base_uri": "https://localhost:8080/",
          "height": 106
        },
        "id": "2c92bcd7",
        "outputId": "99efbc5c-01da-4f9d-aa18-fc90697d462c"
      },
      "source": [
        "    if base is not None and height is not None:\n",
        "      return 0.5 * base * height\n",
        "    else:\n",
        "      print(\"Error: Base and height are required for a triangle.\")\n",
        "      return None"
      ],
      "execution_count": 40,
      "outputs": [
        {
          "output_type": "error",
          "ename": "SyntaxError",
          "evalue": "'return' outside function (ipython-input-2167687723.py, line 2)",
          "traceback": [
            "\u001b[0;36m  File \u001b[0;32m\"/tmp/ipython-input-2167687723.py\"\u001b[0;36m, line \u001b[0;32m2\u001b[0m\n\u001b[0;31m    return 0.5 * base * height\u001b[0m\n\u001b[0m    ^\u001b[0m\n\u001b[0;31mSyntaxError\u001b[0m\u001b[0;31m:\u001b[0m 'return' outside function\n"
          ]
        }
      ]
    },
    {
      "cell_type": "code",
      "metadata": {
        "colab": {
          "base_uri": "https://localhost:8080/",
          "height": 106
        },
        "id": "52b1c8a5",
        "outputId": "586b79a0-5842-47bf-899a-8f4bdcad38f8"
      },
      "source": [
        "  else:\n",
        "    print(f\"Error: Unsupported shape '{shape}'.\")\n",
        "    return None"
      ],
      "execution_count": 41,
      "outputs": [
        {
          "output_type": "error",
          "ename": "SyntaxError",
          "evalue": "invalid syntax (ipython-input-2472471704.py, line 1)",
          "traceback": [
            "\u001b[0;36m  File \u001b[0;32m\"/tmp/ipython-input-2472471704.py\"\u001b[0;36m, line \u001b[0;32m1\u001b[0m\n\u001b[0;31m    else:\u001b[0m\n\u001b[0m    ^\u001b[0m\n\u001b[0;31mSyntaxError\u001b[0m\u001b[0;31m:\u001b[0m invalid syntax\n"
          ]
        }
      ]
    },
    {
      "cell_type": "code",
      "metadata": {
        "colab": {
          "base_uri": "https://localhost:8080/"
        },
        "id": "ce9c65c7",
        "outputId": "1f0f5139-6e2b-422f-a2fc-a9c21d871af2"
      },
      "source": [
        "# Example Usage:\n",
        "print(f\"Area of circle with radius 5: {calculate_area('circle', radius=5)}\")\n",
        "print(f\"Area of square with side 4: {calculate_area('square', side=4)}\")\n",
        "print(f\"Area of rectangle with length 6 and width 8: {calculate_area('rectangle', length=6, width=8)}\")\n",
        "print(f\"Area of triangle with base 3 and height 7: {calculate_area('triangle', base=3, height=7)}\")\n",
        "print(f\"Area of a pentagon: {calculate_area('pentagon', side=5)}\") # Unsupported shape\n",
        "print(f\"Area of circle (missing radius): {calculate_area('circle')}\") # Missing argument"
      ],
      "execution_count": 42,
      "outputs": [
        {
          "output_type": "stream",
          "name": "stdout",
          "text": [
            "Area of circle with radius 5: 78.53981633974483\n",
            "Area of square with side 4: 16\n",
            "Area of rectangle with length 6 and width 8: 48\n",
            "Area of triangle with base 3 and height 7: 10.5\n",
            "Error: Unsupported shape 'pentagon'.\n",
            "Area of a pentagon: None\n",
            "Error: Radius is required for a circle.\n",
            "Area of circle (missing radius): None\n"
          ]
        }
      ]
    },
    {
      "cell_type": "code",
      "source": [],
      "metadata": {
        "id": "x-ItBB3kM3mU"
      },
      "execution_count": null,
      "outputs": []
    },
    {
      "cell_type": "markdown",
      "source": [
        "Task Description#4\n",
        "● Install and configure Cursor AI. Use it to generate a Python function (e.g., sum of\n",
        "squares).\n",
        "Expected Output#4\n",
        "● Screenshots of working environments with few prompts to generate python code"
      ],
      "metadata": {
        "id": "5bI2LQwOM24W"
      }
    },
    {
      "cell_type": "code",
      "metadata": {
        "colab": {
          "base_uri": "https://localhost:8080/"
        },
        "id": "02da54fd",
        "outputId": "4fda34c2-2026-41e7-a0e7-7991624945b9"
      },
      "source": [
        "def sum_of_squares(numbers):\n",
        "  \"\"\"\n",
        "  Calculates the sum of the squares of a list of numbers.\n",
        "\n",
        "  Args:\n",
        "    numbers (list): A list of numbers.\n",
        "\n",
        "  Returns:\n",
        "    float or int: The sum of the squares.\n",
        "  \"\"\"\n",
        "  return sum(x**2 for x in numbers)\n",
        "\n",
        "# Example usage\n",
        "my_list = [1, 2, 3, 4, 5]\n",
        "result = sum_of_squares(my_list)\n",
        "print(f\"The sum of squares of {my_list} is: {result}\")"
      ],
      "execution_count": 43,
      "outputs": [
        {
          "output_type": "stream",
          "name": "stdout",
          "text": [
            "The sum of squares of [1, 2, 3, 4, 5] is: 55\n"
          ]
        }
      ]
    },
    {
      "cell_type": "code",
      "source": [
        "def sum_odd_even(numbers):\n",
        "  \"\"\"\n",
        "  Calculates the sum of odd and even numbers in a list.\n",
        "\n",
        "  Args:\n",
        "    numbers (list): A list of numbers.\n",
        "\n",
        "  Returns:\n",
        "    tuple: A tuple containing the sum of odd numbers and the sum of even numbers.\n",
        "  \"\"\"\n",
        "  sum_odd = 0\n",
        "  sum_even = 0\n",
        "  for num in numbers:\n",
        "    if num % 2 == 0:\n",
        "      sum_even += num\n",
        "    else:\n",
        "      sum_odd += num\n",
        "  return sum_odd, sum_even\n",
        "\n",
        "# Example usage\n",
        "my_list = [1, 2, 3, 4, 5, 6, 7, 8, 9, 10]\n",
        "odd_sum, even_sum = sum_odd_even(my_list)\n",
        "print(f\"List: {my_list}\")\n",
        "print(f\"Sum of odd numbers: {odd_sum}\")\n",
        "print(f\"Sum of even numbers: {even_sum}\")"
      ],
      "metadata": {
        "colab": {
          "base_uri": "https://localhost:8080/"
        },
        "id": "PZr0FCWjNxmb",
        "outputId": "80dbdc1e-a6c3-4931-b902-ab0fc17fd123"
      },
      "execution_count": 44,
      "outputs": [
        {
          "output_type": "stream",
          "name": "stdout",
          "text": [
            "List: [1, 2, 3, 4, 5, 6, 7, 8, 9, 10]\n",
            "Sum of odd numbers: 25\n",
            "Sum of even numbers: 30\n"
          ]
        }
      ]
    },
    {
      "cell_type": "markdown",
      "source": [
        "Task Description#5\n",
        "● Student need to write code to calculate sum of add number and even numbers in the\n",
        "list\n",
        "Expected Output#5\n",
        "● Refactored code written by student with improved logic"
      ],
      "metadata": {
        "id": "DWQ2G6AoNxHM"
      }
    }
  ]
}